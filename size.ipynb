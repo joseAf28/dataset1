{
 "cells": [
  {
   "cell_type": "code",
   "execution_count": 1,
   "metadata": {},
   "outputs": [],
   "source": [
    "import numpy as np\n",
    "import torch \n",
    "import yaml\n",
    "import torch.nn as nn\n",
    "import math \n",
    "\n",
    "import src.models as models"
   ]
  },
  {
   "cell_type": "code",
   "execution_count": 2,
   "metadata": {},
   "outputs": [
    {
     "name": "stdout",
     "output_type": "stream",
     "text": [
      "[9112, 12217, 19777, 29137, 44417, 57977, 73337, 90497, 102937]\n"
     ]
    }
   ],
   "source": [
    "\n",
    "input_size = 3\n",
    "output_size = 17\n",
    "\n",
    "\n",
    "nb_neurons = [85, 100, 130, 160, 200, 230, 260, 290, 310]\n",
    "sizes = []\n",
    "\n",
    "for size in nb_neurons:\n",
    "    hidden_sizes = [size, size]\n",
    "    model_loaded = models.Regressor(input_size=input_size, output_size=output_size, hidden_sizes=hidden_sizes)\n",
    "    sizes.append(models.count_parameters(model_loaded))\n",
    "\n",
    "print(sizes)\n"
   ]
  },
  {
   "cell_type": "code",
   "execution_count": 17,
   "metadata": {},
   "outputs": [
    {
     "name": "stdout",
     "output_type": "stream",
     "text": [
      "[3617, 5672, 8177, 11132, 14537, 21212, 29137, 36377, 44417]\n"
     ]
    }
   ],
   "source": [
    "\n",
    "input_size = 3\n",
    "output_size = 17\n",
    "\n",
    "\n",
    "nb_neurons = [50, 65, 80, 95, 110, 135, 160, 180, 200]\n",
    "sizes = []\n",
    "\n",
    "for size in nb_neurons:\n",
    "    hidden_sizes = [size, size]\n",
    "    model_loaded = models.Regressor(input_size=input_size, output_size=output_size, hidden_sizes=hidden_sizes)\n",
    "    sizes.append(models.count_parameters(model_loaded))\n",
    "\n",
    "print(sizes)\n"
   ]
  },
  {
   "cell_type": "code",
   "execution_count": 4,
   "metadata": {},
   "outputs": [
    {
     "name": "stdout",
     "output_type": "stream",
     "text": [
      "[3617, 5672, 8177, 11132, 14537, 21212, 25817]\n"
     ]
    }
   ],
   "source": [
    "print(sizes)"
   ]
  },
  {
   "cell_type": "code",
   "execution_count": 33,
   "metadata": {},
   "outputs": [
    {
     "name": "stdout",
     "output_type": "stream",
     "text": [
      "[3583, 5463, 8247, 11305, 14505, 20863, 29337, 36505, 44457]\n"
     ]
    }
   ],
   "source": [
    "\n",
    "nb_hidden = [25, 35, 47, 58, 68, 85, 104, 118, 132]\n",
    "size_2 = []\n",
    "\n",
    "for size in nb_hidden:\n",
    "    pcdae = models.PCDAE(x_dim=input_size, y_dim=output_size, hidden_dim=size)\n",
    "    size_2.append(models.count_parameters(pcdae))\n",
    "\n",
    "\n",
    "print(size_2)\n"
   ]
  },
  {
   "cell_type": "code",
   "execution_count": 6,
   "metadata": {},
   "outputs": [
    {
     "name": "stdout",
     "output_type": "stream",
     "text": [
      "10\n"
     ]
    }
   ],
   "source": [
    "seed_vec = np.arange(1, 400, 40, dtype=int)\n",
    "\n",
    "print(len(seed_vec))"
   ]
  },
  {
   "cell_type": "code",
   "execution_count": null,
   "metadata": {},
   "outputs": [],
   "source": []
  }
 ],
 "metadata": {
  "kernelspec": {
   "display_name": "LLM",
   "language": "python",
   "name": "python3"
  },
  "language_info": {
   "codemirror_mode": {
    "name": "ipython",
    "version": 3
   },
   "file_extension": ".py",
   "mimetype": "text/x-python",
   "name": "python",
   "nbconvert_exporter": "python",
   "pygments_lexer": "ipython3",
   "version": "3.12.7"
  }
 },
 "nbformat": 4,
 "nbformat_minor": 2
}
